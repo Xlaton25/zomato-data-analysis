{
 "cells": [
  {
   "cell_type": "code",
   "execution_count": null,
   "id": "e6e073e6-5599-405d-b8db-eec586a72462",
   "metadata": {},
   "outputs": [],
   "source": [
    "import pandas as pd\n",
    "import numpy as np\n",
    "import matplotlib.pyplot as plt\n",
    "import seaborn as sns"
   ]
  },
  {
   "cell_type": "code",
   "execution_count": null,
   "id": "93845e4d-8e01-49f7-af2a-aa58c30bc7a8",
   "metadata": {},
   "outputs": [],
   "source": [
    "dataframe = pd.read_csv(\"Zomato data .csv\")\n",
    "print(dataframe.head())"
   ]
  },
  {
   "cell_type": "code",
   "execution_count": null,
   "id": "1229eb15-f790-4244-bee7-8bf98afa2664",
   "metadata": {},
   "outputs": [],
   "source": [
    "dataframe"
   ]
  },
  {
   "cell_type": "code",
   "execution_count": null,
   "id": "b83a89eb-cdc8-4092-9a65-87296750cff6",
   "metadata": {},
   "outputs": [],
   "source": [
    "def handleRate(value):\n",
    "    value=str(value).split('/')\n",
    "    value=value[0];\n",
    "    return float(value)\n",
    "\n",
    "dataframe['rate']=dataframe['rate'].apply(handleRate)\n",
    "print(dataframe.head())"
   ]
  },
  {
   "cell_type": "code",
   "execution_count": null,
   "id": "fb16e7ae-a955-4e4e-8254-f259a4400ce2",
   "metadata": {},
   "outputs": [],
   "source": [
    "dataframe.info()"
   ]
  },
  {
   "cell_type": "markdown",
   "id": "fa208075-8e3e-4ea5-a849-2bb2d7abe385",
   "metadata": {},
   "source": [
    ">>> No null value in datafraame"
   ]
  },
  {
   "cell_type": "code",
   "execution_count": null,
   "id": "9daf1786-613a-4f16-beaf-2e043df1f3d6",
   "metadata": {},
   "outputs": [],
   "source": [
    "sns.countplot(x=dataframe['listed_in(type)'])\n",
    "plt.xlabel(\"Type of Restaurent\")"
   ]
  },
  {
   "cell_type": "markdown",
   "id": "2817eb3f-8bce-4e3e-be21-97a6375b91db",
   "metadata": {},
   "source": [
    "Majority Restaurent >> Dining Category"
   ]
  },
  {
   "cell_type": "code",
   "execution_count": null,
   "id": "62609136-18d4-46d5-a360-10956c349e57",
   "metadata": {},
   "outputs": [],
   "source": [
    "groupped_data = dataframe.groupby('listed_in(type)')['votes'].sum()\n",
    "result = pd.DataFrame({'votes': groupped_data})\n",
    "plt.plot(result, c =\"green\", marker=\"o\")\n",
    "plt.xlabel(\"Type of Restaurent\", c = \"red\", size =20)\n",
    "plt.ylabel(\"Votes\", c = \"red\", size =20)"
   ]
  },
  {
   "cell_type": "code",
   "execution_count": null,
   "id": "3af8a1f8-1d5f-4b3e-ba43-e5bd060f1c47",
   "metadata": {},
   "outputs": [],
   "source": [
    "plt.hist(dataframe['rate'],bins=5)\n",
    "plt.title(\"Ratings Distribution\")\n",
    "plt.show()"
   ]
  },
  {
   "cell_type": "code",
   "execution_count": null,
   "id": "35db10a3-070a-4a0e-8cff-f4a04a212332",
   "metadata": {},
   "outputs": [],
   "source": [
    "couple_data=dataframe['approx_cost(for two people)']\n",
    "sns.countplot(x=couple_data)"
   ]
  },
  {
   "cell_type": "markdown",
   "id": "af435374-0594-485d-9cb7-cffdaabedd0c",
   "metadata": {},
   "source": [
    ">> Majority Prefer restaurents with appx cost of 300 rs"
   ]
  },
  {
   "cell_type": "code",
   "execution_count": null,
   "id": "26de2f1e",
   "metadata": {},
   "outputs": [],
   "source": [
    "plt.figure(figsize =(6,6))\n",
    "sns.boxplot(x = 'online_order', y = 'rate',data=dataframe)"
   ]
  },
  {
   "cell_type": "markdown",
   "id": "caec9c51-3965-407f-aeeb-e8b4cb8164fc",
   "metadata": {},
   "source": [
    ">>> Offline order's rating is lower than the Online order rating"
   ]
  },
  {
   "cell_type": "code",
   "execution_count": null,
   "id": "bd4e4c09-8a2d-4faa-a355-61703c12c992",
   "metadata": {},
   "outputs": [],
   "source": [
    "pivot_table = dataframe.pivot_table(index='listed_in(type)', columns='online_order', aggfunc='size', fill_value=0 )\n",
    "sns.heatmap(pivot_table, annot=True, cmap=\"YlGnBu\",fmt='d')\n",
    "plt.title(\"Heatmap\")\n",
    "plt.xlabel(\"Online Order\")\n",
    "plt.ylabel(\"Listed In (Type)\")\n",
    "plt.show()"
   ]
  },
  {
   "cell_type": "markdown",
   "id": "a5a9390c-1d6a-4dae-8bc1-15681c48585c",
   "metadata": {},
   "source": [
    ">> Dining restaurents Primarily accept offline orders unlike cafes primarily receive online orders. This suggest that clients prefer to place orders in person at restaurents, but prefer online ordering at cafes."
   ]
  }
 ],
 "metadata": {
  "kernelspec": {
   "display_name": "Python 3 (ipykernel)",
   "language": "python",
   "name": "python3"
  },
  "language_info": {
   "codemirror_mode": {
    "name": "ipython",
    "version": 3
   },
   "file_extension": ".py",
   "mimetype": "text/x-python",
   "name": "python",
   "nbconvert_exporter": "python",
   "pygments_lexer": "ipython3",
   "version": "3.12.5"
  }
 },
 "nbformat": 4,
 "nbformat_minor": 5
}
